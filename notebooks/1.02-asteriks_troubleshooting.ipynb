{
 "cells": [
  {
   "cell_type": "markdown",
   "metadata": {},
   "source": [
    "# `asteriks` troubleshooting\n",
    "\n",
    "This document is designed to show common asteriks problems and describe their solutions!"
   ]
  },
  {
   "cell_type": "markdown",
   "metadata": {},
   "source": [
    "# NotFetchedError\n",
    "\n",
    "Q: I get an exception! It says \n",
    "\n",
    "```\n",
    "The metadata for this object has not been fetched. Use the `fetch` method to obtain meta data (e.g. asteriks.object(NAME).fetch()).\n",
    "```\n",
    "\n",
    "A: `asteriks` doesn't fetch meta data on initialization, so that you can change the initialization parameters. To get rid of this exception simply run `fetch` on your object.\n",
    "\n",
    "```Python\n",
    "    import asteriks\n",
    "    obj = asteriks.object('name', campaign)\n",
    "    obj.fetch()\n",
    "    obj.plotTrack # Will not raise an exception\n",
    "```"
   ]
  },
  {
   "cell_type": "markdown",
   "metadata": {},
   "source": [
    "# NotBuiltError\n",
    "\n",
    "Q: I get an exception! It says \n",
    "\n",
    "```\n",
    "The data for this object has not been built. Use the `build` method to obtain meta data (e.g. asteriks.object(NAME).build()).\n",
    "```\n",
    "\n",
    "A: `asteriks` doesn't download data from MAST on initialization, because it's a lot of data to work with. To get rid of this exception simply run `build` on your object. This will download all the data and cut out the asteroid TPF.\n",
    "\n",
    "```Python\n",
    "    import asteriks\n",
    "    obj = asteriks.object('name', campaign)\n",
    "    obj.fetch()\n",
    "    obj.build()\n",
    "    obj.plotBestLightCurve # Will not raise an exception\n",
    "```"
   ]
  },
  {
   "cell_type": "markdown",
   "metadata": {},
   "source": [
    "# Too many warning messages...\n",
    "\n",
    "Q: There are lots of warnings in asteriks, is there anyway I can turn them off?\n",
    "\n",
    "A: You can quieten asteriks by using\n",
    "```Python\n",
    "    import asteriks\n",
    "    asteriks.log.setLevel('CRITICAL')\n",
    "```\n",
    "\n",
    "which will set the internal logger level to only output 'critical' messages. If there are still messages from other packages that asteriks is dependent on you can run asteriks as follows\n",
    "\n",
    "```Python\n",
    "    import asteriks\n",
    "    with asteriks.utils.silence();\n",
    "        obj = asteriks.object('name', 'campaign')\n",
    "        obj.fetch()\n",
    "        obj.build()\n",
    "        obj.writeTPF()\n",
    "```\n",
    "\n",
    "which will catch and supress all warnings. Be careful though, this will also silence pdb if you're trying to use a debugger!"
   ]
  },
  {
   "cell_type": "code",
   "execution_count": null,
   "metadata": {},
   "outputs": [],
   "source": []
  }
 ],
 "metadata": {
  "kernelspec": {
   "display_name": "Python 3",
   "language": "python",
   "name": "python3"
  },
  "language_info": {
   "codemirror_mode": {
    "name": "ipython",
    "version": 3
   },
   "file_extension": ".py",
   "mimetype": "text/x-python",
   "name": "python",
   "nbconvert_exporter": "python",
   "pygments_lexer": "ipython3",
   "version": "3.6.5"
  }
 },
 "nbformat": 4,
 "nbformat_minor": 2
}
