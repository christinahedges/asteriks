{
 "cells": [
  {
   "cell_type": "code",
   "execution_count": 1,
   "metadata": {
    "collapsed": true
   },
   "outputs": [],
   "source": [
    "import sys\n",
    "sys.path.append('../python/')\n",
    "import asteriks as ak\n",
    "import numpy as np\n",
    "import matplotlib.pyplot as plt\n",
    "import astropy.units as u\n",
    "import pandas as pd\n",
    "import os\n",
    "from scipy.ndimage.filters import gaussian_filter1d\n",
    "%matplotlib inline\n",
    "%load_ext autoreload\n",
    "%autoreload 2"
   ]
  },
  {
   "cell_type": "code",
   "execution_count": null,
   "metadata": {},
   "outputs": [
    {
     "name": "stdout",
     "output_type": "stream",
     "text": [
      "NAME: 1999 TJ90\n",
      " CHANNEL: 2\n",
      "\n"
     ]
    },
    {
     "name": "stderr",
     "output_type": "stream",
     "text": [
      "WARNING: FITSFixedWarning: The WCS transformation has more axes (2) than the image it is associated with (0) [astropy.wcs.wcs]\n",
      "WARNING:astropy:FITSFixedWarning: The WCS transformation has more axes (2) than the image it is associated with (0)\n"
     ]
    },
    {
     "name": "stdout",
     "output_type": "stream",
     "text": [
      "Finding background (lagged 0.5 days)\n"
     ]
    },
    {
     "name": "stderr",
     "output_type": "stream",
     "text": [
      "3853it [00:00, 6505.40it/s]\n"
     ]
    },
    {
     "name": "stdout",
     "output_type": "stream",
     "text": [
      "Not enough TPFs on source.\n",
      "NAME: 1999 TS40\n",
      " CHANNEL: 4\n",
      "\n"
     ]
    },
    {
     "name": "stderr",
     "output_type": "stream",
     "text": [
      "WARNING: FITSFixedWarning: The WCS transformation has more axes (2) than the image it is associated with (0) [astropy.wcs.wcs]\n",
      "WARNING:astropy:FITSFixedWarning: The WCS transformation has more axes (2) than the image it is associated with (0)\n"
     ]
    },
    {
     "name": "stdout",
     "output_type": "stream",
     "text": [
      "Finding background (lagged 0.5 days)\n",
      "NAME: 1999 VG135\n",
      " CHANNEL: 10\n",
      "\n"
     ]
    },
    {
     "name": "stderr",
     "output_type": "stream",
     "text": [
      "WARNING: FITSFixedWarning: The WCS transformation has more axes (2) than the image it is associated with (0) [astropy.wcs.wcs]\n",
      "WARNING:astropy:FITSFixedWarning: The WCS transformation has more axes (2) than the image it is associated with (0)\n"
     ]
    },
    {
     "name": "stdout",
     "output_type": "stream",
     "text": [
      "Finding background (lagged 0.5 days)\n"
     ]
    },
    {
     "name": "stderr",
     "output_type": "stream",
     "text": [
      "3853it [00:00, 5816.25it/s]\n"
     ]
    },
    {
     "name": "stdout",
     "output_type": "stream",
     "text": [
      "Not enough TPFs on source.\n"
     ]
    },
    {
     "name": "stderr",
     "output_type": "stream",
     "text": [
      "WARNING: FITSFixedWarning: The WCS transformation has more axes (2) than the image it is associated with (0) [astropy.wcs.wcs]\n",
      "WARNING:astropy:FITSFixedWarning: The WCS transformation has more axes (2) than the image it is associated with (0)\n"
     ]
    },
    {
     "name": "stdout",
     "output_type": "stream",
     "text": [
      "NAME: 2000 WC140\n",
      " CHANNEL: 6\n",
      "\n",
      "No such channel\n",
      "NAME: 2001 QT322\n",
      " CHANNEL: 68\n",
      "\n"
     ]
    },
    {
     "name": "stderr",
     "output_type": "stream",
     "text": [
      "WARNING: FITSFixedWarning: The WCS transformation has more axes (2) than the image it is associated with (0) [astropy.wcs.wcs]\n",
      "WARNING:astropy:FITSFixedWarning: The WCS transformation has more axes (2) than the image it is associated with (0)\n"
     ]
    },
    {
     "name": "stdout",
     "output_type": "stream",
     "text": [
      "Finding background (lagged 0.5 days)\n"
     ]
    },
    {
     "name": "stderr",
     "output_type": "stream",
     "text": [
      "3853it [00:05, 709.57it/s] \n"
     ]
    },
    {
     "name": "stdout",
     "output_type": "stream",
     "text": [
      "1919 TPFs on source\n",
      "Finding overlaps for difference imaging.\n"
     ]
    },
    {
     "name": "stderr",
     "output_type": "stream",
     "text": [
      "100%|██████████| 3853/3853 [02:09<00:00, 29.68it/s]\n",
      "3853it [00:07, 491.68it/s] \n"
     ]
    },
    {
     "name": "stdout",
     "output_type": "stream",
     "text": [
      "Finding asteroid\n"
     ]
    },
    {
     "name": "stderr",
     "output_type": "stream",
     "text": [
      "3853it [00:06, 599.06it/s] \n",
      "WARNING: The fit may be unsuccessful; check fit_info['message'] for more information. [astropy.modeling.fitting]\n",
      "WARNING:astropy:The fit may be unsuccessful; check fit_info['message'] for more information.\n"
     ]
    },
    {
     "name": "stdout",
     "output_type": "stream",
     "text": [
      "NAME: 2003 QW90\n",
      " CHANNEL: 67\n",
      "\n"
     ]
    },
    {
     "name": "stderr",
     "output_type": "stream",
     "text": [
      "WARNING: FITSFixedWarning: The WCS transformation has more axes (2) than the image it is associated with (0) [astropy.wcs.wcs]\n",
      "WARNING:astropy:FITSFixedWarning: The WCS transformation has more axes (2) than the image it is associated with (0)\n"
     ]
    },
    {
     "name": "stdout",
     "output_type": "stream",
     "text": [
      "Finding background (lagged 0.5 days)\n"
     ]
    },
    {
     "name": "stderr",
     "output_type": "stream",
     "text": [
      "3853it [00:06, 575.22it/s] \n"
     ]
    },
    {
     "name": "stdout",
     "output_type": "stream",
     "text": [
      "2482 TPFs on source\n",
      "Finding overlaps for difference imaging.\n"
     ]
    },
    {
     "name": "stderr",
     "output_type": "stream",
     "text": [
      "100%|██████████| 3853/3853 [02:12<00:00, 29.02it/s]\n",
      "3853it [00:08, 466.44it/s] \n"
     ]
    },
    {
     "name": "stdout",
     "output_type": "stream",
     "text": [
      "Finding asteroid\n"
     ]
    },
    {
     "name": "stderr",
     "output_type": "stream",
     "text": [
      "3853it [00:07, 505.28it/s] \n"
     ]
    },
    {
     "name": "stdout",
     "output_type": "stream",
     "text": [
      "NAME: 2005 RS43\n",
      " CHANNEL: 4\n",
      "\n"
     ]
    },
    {
     "name": "stderr",
     "output_type": "stream",
     "text": [
      "WARNING: FITSFixedWarning: The WCS transformation has more axes (2) than the image it is associated with (0) [astropy.wcs.wcs]\n",
      "WARNING:astropy:FITSFixedWarning: The WCS transformation has more axes (2) than the image it is associated with (0)\n"
     ]
    },
    {
     "name": "stdout",
     "output_type": "stream",
     "text": [
      "Finding background (lagged 0.5 days)\n"
     ]
    },
    {
     "name": "stderr",
     "output_type": "stream",
     "text": [
      "3853it [00:04, 912.28it/s]  \n"
     ]
    },
    {
     "name": "stdout",
     "output_type": "stream",
     "text": [
      "2007 TPFs on source\n",
      "Finding overlaps for difference imaging.\n"
     ]
    },
    {
     "name": "stderr",
     "output_type": "stream",
     "text": [
      "100%|██████████| 3853/3853 [02:07<00:00, 30.28it/s]\n",
      "3853it [00:06, 582.75it/s] \n",
      "../python/asteriks.py:457: RuntimeWarning: invalid value encountered in subtract\n",
      "  im = np.copy(self.reconstruct(self.ar,c))-np.copy(self.reconstruct(self.mod,c))\n",
      "../python/asteriks.py:491: RuntimeWarning: invalid value encountered in subtract\n",
      "  im = np.copy(self.reconstruct(self.ar,c))-np.copy(self.reconstruct(self.mod,c))\n"
     ]
    },
    {
     "name": "stdout",
     "output_type": "stream",
     "text": [
      "Finding asteroid\n"
     ]
    },
    {
     "name": "stderr",
     "output_type": "stream",
     "text": [
      "3853it [00:06, 596.78it/s] \n",
      "../python/asteriks.py:491: RuntimeWarning: invalid value encountered in subtract\n",
      "  im = np.copy(self.reconstruct(self.ar,c))-np.copy(self.reconstruct(self.mod,c))\n",
      "WARNING: The fit may be unsuccessful; check fit_info['message'] for more information. [astropy.modeling.fitting]\n",
      "WARNING:astropy:The fit may be unsuccessful; check fit_info['message'] for more information.\n"
     ]
    },
    {
     "name": "stdout",
     "output_type": "stream",
     "text": [
      "NAME: 2006 UB219\n",
      " CHANNEL: 4\n",
      "\n"
     ]
    },
    {
     "name": "stderr",
     "output_type": "stream",
     "text": [
      "WARNING: FITSFixedWarning: The WCS transformation has more axes (2) than the image it is associated with (0) [astropy.wcs.wcs]\n",
      "WARNING:astropy:FITSFixedWarning: The WCS transformation has more axes (2) than the image it is associated with (0)\n"
     ]
    },
    {
     "name": "stdout",
     "output_type": "stream",
     "text": [
      "Finding background (lagged 0.5 days)\n",
      "NAME: 2007 RY194\n",
      " CHANNEL: 10\n",
      "\n"
     ]
    },
    {
     "name": "stderr",
     "output_type": "stream",
     "text": [
      "WARNING: FITSFixedWarning: The WCS transformation has more axes (2) than the image it is associated with (0) [astropy.wcs.wcs]\n",
      "WARNING:astropy:FITSFixedWarning: The WCS transformation has more axes (2) than the image it is associated with (0)\n"
     ]
    },
    {
     "name": "stdout",
     "output_type": "stream",
     "text": [
      "Finding background (lagged 0.5 days)\n"
     ]
    },
    {
     "name": "stderr",
     "output_type": "stream",
     "text": [
      "3853it [00:00, 5894.51it/s]\n"
     ]
    },
    {
     "name": "stdout",
     "output_type": "stream",
     "text": [
      "Not enough TPFs on source.\n",
      "NAME: CALIBAN\n",
      " CHANNEL: 42\n",
      "\n"
     ]
    },
    {
     "name": "stderr",
     "output_type": "stream",
     "text": [
      "WARNING: FITSFixedWarning: The WCS transformation has more axes (2) than the image it is associated with (0) [astropy.wcs.wcs]\n",
      "WARNING:astropy:FITSFixedWarning: The WCS transformation has more axes (2) than the image it is associated with (0)\n"
     ]
    },
    {
     "name": "stdout",
     "output_type": "stream",
     "text": [
      "Finding background (lagged 0.5 days)\n"
     ]
    },
    {
     "name": "stderr",
     "output_type": "stream",
     "text": [
      "2573it [00:19, 130.00it/s]"
     ]
    }
   ],
   "source": [
    "obj = pd.read_pickle('/Users/ch/K2/projects/moving_objects/out.p')\n",
    "obj = obj[obj.Campaign=='8']\n",
    "\n",
    "for i,o in obj.iterrows():\n",
    "    if o.minmag=='0':\n",
    "        continue\n",
    "    \n",
    "    a = ak.Asteroid(o.Name, campaign=int(o.Campaign), dir='/Volumes/cupertino/database/')\n",
    "    channels = np.unique(a.ephem.channels)\n",
    "    for c in channels:\n",
    "        if os.path.isfile('/Users/ch/K2/projects/asteroid/output/lcs/{}_{}.csv'.format(a.name.replace(' ',''),c)):\n",
    "            continue\n",
    "        print('NAME: {}\\n CHANNEL: {}\\n'.format(o.Name,c))\n",
    "        a.lightcurve(c,r=5, val_lim=100)\n",
    "     \n",
    "        t, f = a.t, a.f\n",
    "        if t is None:\n",
    "            pd.DataFrame(np.asarray([[0],[0]]).T,columns=[\"Time\",\"Counts\"]).to_csv('/Users/ch/K2/projects/asteroid/output/lcs/{}_{}.csv'.format(a.name.replace(' ',''),c),index=False)\n",
    "        else:\n",
    "            ok = a.ok\n",
    "            fig,ax=plt.subplots(1,figsize=(10,3))\n",
    "            ax.scatter(t[ok],f[ok],s=10,c='black',zorder=1)\n",
    "            ylim = ax.get_ylim()\n",
    "            ax.plot(t,f,zorder=0,alpha=0.5,ls='--',c='C3')\n",
    "            ax.set_ylim(ylim)\n",
    "            plt.xlabel('Time (BJD)',fontsize=15)\n",
    "            plt.ylabel('Counts ($e^{-}s^{-1}$)',fontsize=15)\n",
    "            plt.title('{} (Channel:{} Campaign:{})'.format(a.name,c,a.campaign),fontsize=15)\n",
    "            fig.savefig('/Users/ch/K2/projects/asteroid/output/images/{}_{}.png'.format(a.name.replace(' ',''),c),dpi=200,bbox_inches='tight')\n",
    "            pd.DataFrame(np.asarray([t[ok],f[ok]]).T,columns=[\"Time\",\"Counts\"]).to_csv('/Users/ch/K2/projects/asteroid/output/lcs/{}_{}.csv'.format(a.name.replace(' ',''),c),index=False)\n",
    "        break"
   ]
  },
  {
   "cell_type": "code",
   "execution_count": null,
   "metadata": {},
   "outputs": [],
   "source": []
  },
  {
   "cell_type": "code",
   "execution_count": null,
   "metadata": {
    "collapsed": true
   },
   "outputs": [],
   "source": []
  }
 ],
 "metadata": {
  "kernelspec": {
   "display_name": "Python 3",
   "language": "python",
   "name": "python3"
  },
  "language_info": {
   "codemirror_mode": {
    "name": "ipython",
    "version": 3
   },
   "file_extension": ".py",
   "mimetype": "text/x-python",
   "name": "python",
   "nbconvert_exporter": "python",
   "pygments_lexer": "ipython3",
   "version": "3.6.2"
  }
 },
 "nbformat": 4,
 "nbformat_minor": 2
}
