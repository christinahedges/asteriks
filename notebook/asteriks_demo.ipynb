{
 "cells": [
  {
   "cell_type": "code",
   "execution_count": 107,
   "metadata": {},
   "outputs": [
    {
     "name": "stdout",
     "output_type": "stream",
     "text": [
      "The autoreload extension is already loaded. To reload it, use:\n",
      "  %reload_ext autoreload\n"
     ]
    }
   ],
   "source": [
    "import sys\n",
    "sys.path.append('../python/')\n",
    "import asteriks as ak\n",
    "import numpy as np\n",
    "import matplotlib.pyplot as plt\n",
    "import astropy.units as u\n",
    "import pandas as pd\n",
    "import os\n",
    "from scipy.ndimage.filters import gaussian_filter1d\n",
    "%matplotlib inline\n",
    "%load_ext autoreload\n",
    "%autoreload 2"
   ]
  },
  {
   "cell_type": "code",
   "execution_count": null,
   "metadata": {},
   "outputs": [
    {
     "name": "stdout",
     "output_type": "stream",
     "text": [
      "10989 71\n"
     ]
    },
    {
     "name": "stderr",
     "output_type": "stream",
     "text": [
      "WARNING: FITSFixedWarning: The WCS transformation has more axes (2) than the image it is associated with (0) [astropy.wcs.wcs]\n",
      "WARNING:astropy:FITSFixedWarning: The WCS transformation has more axes (2) than the image it is associated with (0)\n"
     ]
    },
    {
     "name": "stdout",
     "output_type": "stream",
     "text": [
      "Finding asteroid\n",
      "Finding overlaps for difference imaging.\n"
     ]
    },
    {
     "name": "stderr",
     "output_type": "stream",
     "text": [
      " 96%|█████████▌| 3698/3863 [02:06<00:05, 29.24it/s]"
     ]
    }
   ],
   "source": [
    "obj = pd.read_pickle('/Users/ch/K2/projects/moving_objects/out.p')\n",
    "\n",
    "for i,o in obj.iterrows():\n",
    "    if o.minmag=='0':\n",
    "        continue\n",
    "    \n",
    "    a = ak.Asteroid(o.Name, campaign=int(o.Campaign), dir='/Volumes/cupertino/database/')\n",
    "    channels = np.unique(a.ephem.channels)\n",
    "    for c in channels:\n",
    "        if os.path.isfile('/Users/ch/K2/projects/asteroid/output/images/{}_{}.png'.format(a.name.replace(' ',''),c)):\n",
    "            continue\n",
    "        print(o.Name,c)\n",
    "        t, f = a.lightcurve(c,r=5)\n",
    "        fig=plt.figure(figsize=(10,3))\n",
    "        plt.scatter(t,f,s=1)\n",
    "        plt.xlabel('Time (BJD)',fontsize=15)\n",
    "        plt.ylabel('Counts ($e^{-}s^{-1}$)',fontsize=15)\n",
    "        plt.title('{} (Channel:{} Campaign:{})'.format(a.name,a.channel,a.campaign),fontsize=15)\n",
    "        fig.savefig('/Users/ch/K2/projects/asteroid/output/images/{}_{}.png'.format(a.name.replace(' ',''),c),dpi=200,bbox_inches='tight')\n",
    "        pd.DataFrame(np.asarray([t,f]).T,columns=[\"Time\",\"Counts\"]).to_csv('/Users/ch/K2/projects/asteroid/output/lcs/{}_{}.csv'.format(a.name.replace(' ',''),c),index=False)\n"
   ]
  }
 ],
 "metadata": {
  "kernelspec": {
   "display_name": "Python 3",
   "language": "python",
   "name": "python3"
  },
  "language_info": {
   "codemirror_mode": {
    "name": "ipython",
    "version": 3
   },
   "file_extension": ".py",
   "mimetype": "text/x-python",
   "name": "python",
   "nbconvert_exporter": "python",
   "pygments_lexer": "ipython3",
   "version": "3.6.2"
  }
 },
 "nbformat": 4,
 "nbformat_minor": 2
}
