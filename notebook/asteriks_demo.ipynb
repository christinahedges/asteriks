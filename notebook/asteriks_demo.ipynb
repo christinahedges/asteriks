{
 "cells": [
  {
   "cell_type": "code",
   "execution_count": null,
   "metadata": {
    "collapsed": true
   },
   "outputs": [],
   "source": [
    "import sys\n",
    "sys.path.append('../python/')\n",
    "import asteriks as ak\n",
    "import numpy as np\n",
    "import matplotlib.pyplot as plt\n",
    "import astropy.units as u\n",
    "import pandas as pd\n",
    "import os\n",
    "from scipy.ndimage.filters import gaussian_filter1d\n",
    "%matplotlib inline\n",
    "%load_ext autoreload\n",
    "%autoreload 2"
   ]
  },
  {
   "cell_type": "code",
   "execution_count": null,
   "metadata": {},
   "outputs": [
    {
     "name": "stderr",
     "output_type": "stream",
     "text": [
      "WARNING: FITSFixedWarning: The WCS transformation has more axes (2) than the image it is associated with (0) [astropy.wcs.wcs]\n",
      "WARNING:astropy:FITSFixedWarning: The WCS transformation has more axes (2) than the image it is associated with (0)\n"
     ]
    },
    {
     "name": "stdout",
     "output_type": "stream",
     "text": [
      "NAME: 2006 UB219\n",
      " CHANNEL: 34\n",
      "\n",
      "Finding background (lagged 0.5 days)\n"
     ]
    },
    {
     "name": "stderr",
     "output_type": "stream",
     "text": [
      "3853it [00:12, 298.69it/s]\n"
     ]
    },
    {
     "name": "stdout",
     "output_type": "stream",
     "text": [
      "1455 TPFs on source\n",
      "Finding overlaps for difference imaging.\n"
     ]
    },
    {
     "name": "stderr",
     "output_type": "stream",
     "text": [
      "100%|██████████| 3853/3853 [02:08<00:00, 29.91it/s]\n",
      "3853it [00:12, 297.62it/s]\n",
      "../python/asteriks.py:476: RuntimeWarning: invalid value encountered in subtract\n",
      "  im = np.copy(self.reconstruct(self.ar,c))-np.copy(self.reconstruct(self.mod,c))\n",
      "../python/asteriks.py:510: RuntimeWarning: invalid value encountered in subtract\n",
      "  im = np.copy(self.reconstruct(self.ar,c))-np.copy(self.reconstruct(self.mod,c))\n"
     ]
    },
    {
     "name": "stdout",
     "output_type": "stream",
     "text": [
      "Finding asteroid\n"
     ]
    },
    {
     "name": "stderr",
     "output_type": "stream",
     "text": [
      "3853it [00:14, 262.64it/s]\n",
      "../python/asteriks.py:510: RuntimeWarning: invalid value encountered in subtract\n",
      "  im = np.copy(self.reconstruct(self.ar,c))-np.copy(self.reconstruct(self.mod,c))\n"
     ]
    },
    {
     "name": "stdout",
     "output_type": "stream",
     "text": [
      "Creating movie\n"
     ]
    },
    {
     "name": "stderr",
     "output_type": "stream",
     "text": [
      "WARNING: FITSFixedWarning: The WCS transformation has more axes (2) than the image it is associated with (0) [astropy.wcs.wcs]\n",
      "WARNING:astropy:FITSFixedWarning: The WCS transformation has more axes (2) than the image it is associated with (0)\n"
     ]
    },
    {
     "name": "stdout",
     "output_type": "stream",
     "text": [
      "NAME: 2006 UB219\n",
      " CHANNEL: 35\n",
      "\n",
      "Finding background (lagged 0.5 days)\n"
     ]
    },
    {
     "name": "stderr",
     "output_type": "stream",
     "text": [
      "3853it [00:01, 3549.14it/s]\n"
     ]
    },
    {
     "name": "stdout",
     "output_type": "stream",
     "text": [
      "205 TPFs on source\n",
      "Finding overlaps for difference imaging.\n"
     ]
    },
    {
     "name": "stderr",
     "output_type": "stream",
     "text": [
      "100%|██████████| 3853/3853 [02:12<00:00, 29.01it/s]\n",
      "3853it [00:01, 2860.02it/s]\n"
     ]
    },
    {
     "name": "stdout",
     "output_type": "stream",
     "text": [
      "Finding asteroid\n"
     ]
    },
    {
     "name": "stderr",
     "output_type": "stream",
     "text": [
      "3853it [00:01, 3109.42it/s]\n",
      "WARNING: The fit may be unsuccessful; check fit_info['message'] for more information. [astropy.modeling.fitting]\n",
      "WARNING:astropy:The fit may be unsuccessful; check fit_info['message'] for more information.\n"
     ]
    },
    {
     "name": "stdout",
     "output_type": "stream",
     "text": [
      "Creating movie\n"
     ]
    },
    {
     "name": "stderr",
     "output_type": "stream",
     "text": [
      "WARNING: FITSFixedWarning: The WCS transformation has more axes (2) than the image it is associated with (0) [astropy.wcs.wcs]\n",
      "WARNING:astropy:FITSFixedWarning: The WCS transformation has more axes (2) than the image it is associated with (0)\n"
     ]
    },
    {
     "name": "stdout",
     "output_type": "stream",
     "text": [
      "NAME: 2007 RY194\n",
      " CHANNEL: 11\n",
      "\n",
      "Finding background (lagged 0.5 days)\n"
     ]
    },
    {
     "name": "stderr",
     "output_type": "stream",
     "text": [
      "3853it [00:00, 5230.98it/s]\n",
      "WARNING: FITSFixedWarning: The WCS transformation has more axes (2) than the image it is associated with (0) [astropy.wcs.wcs]\n",
      "WARNING:astropy:FITSFixedWarning: The WCS transformation has more axes (2) than the image it is associated with (0)\n"
     ]
    },
    {
     "name": "stdout",
     "output_type": "stream",
     "text": [
      "Not enough TPFs on source.\n",
      "NAME: 2007 RY194\n",
      " CHANNEL: 29\n",
      "\n",
      "Finding background (lagged 0.5 days)\n"
     ]
    },
    {
     "name": "stderr",
     "output_type": "stream",
     "text": [
      "3853it [00:00, 4830.71it/s]\n",
      "WARNING: FITSFixedWarning: The WCS transformation has more axes (2) than the image it is associated with (0) [astropy.wcs.wcs]\n",
      "WARNING:astropy:FITSFixedWarning: The WCS transformation has more axes (2) than the image it is associated with (0)\n"
     ]
    },
    {
     "name": "stdout",
     "output_type": "stream",
     "text": [
      "Not enough TPFs on source.\n",
      "NAME: 2007 RY194\n",
      " CHANNEL: 30\n",
      "\n",
      "Finding background (lagged 0.5 days)\n"
     ]
    },
    {
     "name": "stderr",
     "output_type": "stream",
     "text": [
      "3853it [00:00, 5225.72it/s]\n"
     ]
    },
    {
     "name": "stdout",
     "output_type": "stream",
     "text": [
      "152 TPFs on source\n",
      "Finding overlaps for difference imaging.\n"
     ]
    },
    {
     "name": "stderr",
     "output_type": "stream",
     "text": [
      "100%|██████████| 3853/3853 [02:08<00:00, 30.10it/s]\n",
      "3853it [00:01, 3413.30it/s]\n",
      "../python/asteriks.py:476: RuntimeWarning: invalid value encountered in subtract\n",
      "  im = np.copy(self.reconstruct(self.ar,c))-np.copy(self.reconstruct(self.mod,c))\n",
      "../python/asteriks.py:510: RuntimeWarning: invalid value encountered in subtract\n",
      "  im = np.copy(self.reconstruct(self.ar,c))-np.copy(self.reconstruct(self.mod,c))\n"
     ]
    },
    {
     "name": "stdout",
     "output_type": "stream",
     "text": [
      "Finding asteroid\n"
     ]
    },
    {
     "name": "stderr",
     "output_type": "stream",
     "text": [
      "3853it [00:01, 3456.09it/s]\n",
      "../python/asteriks.py:510: RuntimeWarning: invalid value encountered in subtract\n",
      "  im = np.copy(self.reconstruct(self.ar,c))-np.copy(self.reconstruct(self.mod,c))\n",
      "WARNING: The fit may be unsuccessful; check fit_info['message'] for more information. [astropy.modeling.fitting]\n",
      "WARNING:astropy:The fit may be unsuccessful; check fit_info['message'] for more information.\n"
     ]
    },
    {
     "name": "stdout",
     "output_type": "stream",
     "text": [
      "Creating movie\n"
     ]
    },
    {
     "name": "stderr",
     "output_type": "stream",
     "text": [
      "WARNING: FITSFixedWarning: The WCS transformation has more axes (2) than the image it is associated with (0) [astropy.wcs.wcs]\n",
      "WARNING:astropy:FITSFixedWarning: The WCS transformation has more axes (2) than the image it is associated with (0)\n"
     ]
    },
    {
     "name": "stdout",
     "output_type": "stream",
     "text": [
      "NAME: 2007 RY194\n",
      " CHANNEL: 49\n",
      "\n",
      "Finding background (lagged 0.5 days)\n"
     ]
    },
    {
     "name": "stderr",
     "output_type": "stream",
     "text": [
      "3853it [00:14, 258.53it/s]\n"
     ]
    },
    {
     "name": "stdout",
     "output_type": "stream",
     "text": [
      "1650 TPFs on source\n",
      "Finding overlaps for difference imaging.\n"
     ]
    },
    {
     "name": "stderr",
     "output_type": "stream",
     "text": [
      "100%|██████████| 3853/3853 [02:11<00:00, 29.24it/s]\n",
      "1320it [00:20, 65.88it/s] "
     ]
    }
   ],
   "source": [
    "obj = pd.read_pickle('/Users/ch/K2/projects/moving_objects/out.p')\n",
    "obj = obj[obj.Campaign=='8']\n",
    "\n",
    "for i,o in obj.iterrows():\n",
    "    if o.minmag=='0':\n",
    "        continue\n",
    "    \n",
    "    a = ak.Asteroid(o.Name, campaign=int(o.Campaign), dir='/Volumes/cupertino/database/')\n",
    "    channels = np.unique(a.ephem.channels)\n",
    "    for c in channels:\n",
    "        if c>=85:\n",
    "            continue\n",
    "        if os.path.isfile('/Users/ch/K2/projects/asteriks/output/lcs/{}_{}.csv'.format(a.name.replace(' ',''),c)):\n",
    "            continue\n",
    "        print('NAME: {}\\n CHANNEL: {}\\n'.format(o.Name,c))\n",
    "        a.lightcurve(c,r=5, val_lim=100,tol=60*u.arcsec)\n",
    "        t, f = a.t, a.f\n",
    "        if t is None:\n",
    "            pd.DataFrame(np.asarray([[0],[0]]).T,columns=[\"Time\",\"Counts\"]).to_csv('/Users/ch/K2/projects/asteriks/output/lcs/{}_{}.csv'.format(a.name.replace(' ',''),c),index=False)\n",
    "        else:\n",
    "            a.movie(c,'../output/movies/',difference=False)\n",
    "            ok = a.ok\n",
    "            fig,ax=plt.subplots(1,figsize=(10,3))\n",
    "            ax.scatter(t[ok],f[ok],s=10,c='black',zorder=1)\n",
    "            ylim = ax.get_ylim()\n",
    "            ax.plot(t,f,zorder=0,alpha=0.5,ls='--',c='C3')\n",
    "            ax.set_ylim(ylim)\n",
    "            plt.xlabel('Time (BJD)',fontsize=15)\n",
    "            plt.ylabel('Counts ($e^{-}s^{-1}$)',fontsize=15)\n",
    "            plt.title('{} (Channel:{} Campaign:{})'.format(a.name,c,a.campaign),fontsize=15)\n",
    "            fig.savefig('/Users/ch/K2/projects/asteriks/output/images/{}_{}.png'.format(a.name.replace(' ',''),c),dpi=200,bbox_inches='tight')\n",
    "            pd.DataFrame(np.asarray([t[ok],f[ok]]).T,columns=[\"Time\",\"Counts\"]).to_csv('/Users/ch/K2/projects/asteriks/output/lcs/{}_{}.csv'.format(a.name.replace(' ',''),c),index=False)"
   ]
  },
  {
   "cell_type": "code",
   "execution_count": null,
   "metadata": {
    "collapsed": true
   },
   "outputs": [],
   "source": []
  },
  {
   "cell_type": "code",
   "execution_count": null,
   "metadata": {
    "collapsed": true
   },
   "outputs": [],
   "source": []
  },
  {
   "cell_type": "code",
   "execution_count": null,
   "metadata": {
    "collapsed": true
   },
   "outputs": [],
   "source": []
  }
 ],
 "metadata": {
  "kernelspec": {
   "display_name": "Python 3",
   "language": "python",
   "name": "python3"
  },
  "language_info": {
   "codemirror_mode": {
    "name": "ipython",
    "version": 3
   },
   "file_extension": ".py",
   "mimetype": "text/x-python",
   "name": "python",
   "nbconvert_exporter": "python",
   "pygments_lexer": "ipython3",
   "version": "3.6.2"
  }
 },
 "nbformat": 4,
 "nbformat_minor": 2
}
