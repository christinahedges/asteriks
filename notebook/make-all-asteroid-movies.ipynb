{
 "cells": [
  {
   "cell_type": "code",
   "execution_count": null,
   "metadata": {
    "collapsed": true
   },
   "outputs": [],
   "source": [
    "obj = pd.read_pickle('/Users/ch/K2/projects/moving_objects/out.p')\n",
    "obj = obj[obj.Campaign=='8']\n",
    "\n",
    "for i,o in obj.iterrows():\n",
    "    if o.minmag=='0':\n",
    "        continue\n",
    "    \n",
    "    a = ak.Asteroid(o.Name, campaign=int(o.Campaign), dir='/Volumes/cupertino/database/')\n",
    "    channels = np.unique(a.ephem.channels)\n",
    "    for c in channels:\n",
    "        if os.path.isfile('/Users/ch/K2/projects/asteroid/output/lcs/{}_{}.csv'.format(a.name.replace(' ',''),c)):\n",
    "            continue\n",
    "        print('NAME: {}\\n CHANNEL: {}\\n'.format(o.Name,c))\n",
    "        a.lightcurve(c,r=5, val_lim=100)\n",
    "     \n",
    "        t, f = a.t, a.f\n",
    "        if t is None:\n",
    "            pd.DataFrame(np.asarray([[0],[0]]).T,columns=[\"Time\",\"Counts\"]).to_csv('/Users/ch/K2/projects/asteroid/output/lcs/{}_{}.csv'.format(a.name.replace(' ',''),c),index=False)\n",
    "        else:\n",
    "            ok = a.ok\n",
    "            fig,ax=plt.subplots(1,figsize=(10,3))\n",
    "            ax.scatter(t[ok],f[ok],s=10,c='black',zorder=1)\n",
    "            ylim = ax.get_ylim()\n",
    "            ax.plot(t,f,zorder=0,alpha=0.5,ls='--',c='C3')\n",
    "            ax.set_ylim(ylim)\n",
    "            plt.xlabel('Time (BJD)',fontsize=15)\n",
    "            plt.ylabel('Counts ($e^{-}s^{-1}$)',fontsize=15)\n",
    "            plt.title('{} (Channel:{} Campaign:{})'.format(a.name,c,a.campaign),fontsize=15)\n",
    "            fig.savefig('/Users/ch/K2/projects/asteroid/output/images/{}_{}.png'.format(a.name.replace(' ',''),c),dpi=200,bbox_inches='tight')\n",
    "            pd.DataFrame(np.asarray([t[ok],f[ok]]).T,columns=[\"Time\",\"Counts\"]).to_csv('/Users/ch/K2/projects/asteroid/output/lcs/{}_{}.csv'.format(a.name.replace(' ',''),c),index=False)\n",
    "        break"
   ]
  }
 ],
 "metadata": {
  "kernelspec": {
   "display_name": "Python 3",
   "language": "python",
   "name": "python3"
  },
  "language_info": {
   "codemirror_mode": {
    "name": "ipython",
    "version": 3
   },
   "file_extension": ".py",
   "mimetype": "text/x-python",
   "name": "python",
   "nbconvert_exporter": "python",
   "pygments_lexer": "ipython3",
   "version": "3.6.2"
  }
 },
 "nbformat": 4,
 "nbformat_minor": 2
}
